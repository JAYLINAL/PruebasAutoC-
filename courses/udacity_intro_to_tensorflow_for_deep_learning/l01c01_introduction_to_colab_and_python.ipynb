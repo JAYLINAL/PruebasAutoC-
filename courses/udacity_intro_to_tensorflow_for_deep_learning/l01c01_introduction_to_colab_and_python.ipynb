{
  "cells": [
    {
      "cell_type": "markdown",
      "metadata": {
        "id": "Za8-Nr5k11fh"
      },
      "source": [
        "##### Copyright 2018 The TensorFlow Authors."
      ]
    },
    {
      "cell_type": "code",
      "execution_count": null,
      "metadata": {
        "cellView": "form",
        "id": "Eq10uEbw0E4l"
      },
      "outputs": [],
      "source": [
        "#@title Licensed under the Apache License, Version 2.0 (the \"License\");\n",
        "# you may not use this file except in compliance with the License.\n",
        "# You may obtain a copy of the License at\n",
        "#\n",
        "# https://www.apache.org/licenses/LICENSE-2.0\n",
        "#\n",
        "# Unless required by applicable law or agreed to in writing, software\n",
        "# distributed under the License is distributed on an \"AS IS\" BASIS,\n",
        "# WITHOUT WARRANTIES OR CONDITIONS OF ANY KIND, either express or implied.\n",
        "# See the License for the specific language governing permissions and\n",
        "# limitations under the License."
      ]
    },
    {
      "cell_type": "markdown",
      "metadata": {
        "id": "YHI3vyhv5p85"
      },
      "source": [
        "## **Introduction to Colab and Python**"
      ]
    },
    {
      "cell_type": "code",
      "source": [
        "import pandas as pd\n",
        "import matplotlib.pyplot as plt\n",
        "\n",
        "# Paso 1: Cargar el archivo 'netflix_title.csv'\n",
        "data = pd.read_csv('/content/netflix_titles.csv')\n",
        "\n",
        "# Paso 2: Visualizar los primeros 10 registros del conjunto de datos\n",
        "print(\"Primeros 10 registros del conjunto de datos:\")\n",
        "print(data.head(10))\n",
        "\n",
        "# Paso 3: Visualizar los últimos 15 registros del conjunto de datos\n",
        "print(\"\\nÚltimos 15 registros del conjunto de datos:\")\n",
        "print(data.tail(15))\n",
        "\n",
        "# Paso 4: Generar los estadísticos básicos\n",
        "print(\"\\nEstadísticos básicos:\")\n",
        "print(data.describe())\n",
        "\n",
        "# Paso 5: Completar todos los datos vacíos (na) con ceros (0)\n",
        "data.fillna(0, inplace=True)\n",
        "\n",
        "# Paso 6: Generar un gráfico de tipo barras que compare películas vs series desde el 2010 hasta el 2021\n",
        "subset = data[(data['release_year'] >= 2010) & (data['release_year'] <= 2021)]\n",
        "movie_counts = subset[subset['type'] == 'Movie'].groupby('release_year').size()\n",
        "series_counts = subset[subset['type'] == 'TV Show'].groupby('release_year').size()\n",
        "\n",
        "plt.figure(figsize=(10, 6))\n",
        "plt.bar(movie_counts.index, movie_counts.values, width=0.4, align='center', label='Películas')\n",
        "plt.bar(series_counts.index + 0.4, series_counts.values, width=0.4, align='center', label='Series')\n",
        "plt.title('Comparación de Películas vs Series (2010-2021)')\n",
        "plt.xlabel('Año de lanzamiento')\n",
        "plt.ylabel('Número de títulos')\n",
        "plt.xticks(movie_counts.index + 0.2, rotation=45)\n",
        "plt.legend()\n",
        "plt.tight_layout()\n",
        "plt.show()\n"
      ],
      "metadata": {
        "colab": {
          "base_uri": "https://localhost:8080/",
          "height": 1000
        },
        "id": "AM9JDAWUALrW",
        "outputId": "126c4ffc-e51f-4d49-cf82-330b5c0b8a3b"
      },
      "execution_count": 13,
      "outputs": [
        {
          "output_type": "stream",
          "name": "stdout",
          "text": [
            "Primeros 10 registros del conjunto de datos:\n",
            "    show_id     type  type_id                                    title  \\\n",
            "0  81145628    Movie        1  Norm of the North: King Sized Adventure   \n",
            "1  80117401    Movie        1               Jandino: Whatever it Takes   \n",
            "2  70234439  TV Show        2                       Transformers Prime   \n",
            "3  80058654  TV Show        2         Transformers: Robots in Disguise   \n",
            "4  80125979    Movie        1                             #realityhigh   \n",
            "5  80163890  TV Show        2                                  Apaches   \n",
            "6  70304989    Movie        1                                 Automata   \n",
            "7  80164077    Movie        1       Fabrizio Copano: Solo pienso en mi   \n",
            "8  80117902  TV Show        2                             Fire Chasers   \n",
            "9  70304990    Movie        1                              Good People   \n",
            "\n",
            "                          director  \\\n",
            "0         Richard Finn, Tim Maltby   \n",
            "1                              NaN   \n",
            "2                              NaN   \n",
            "3                              NaN   \n",
            "4                 Fernando Lebrija   \n",
            "5                              NaN   \n",
            "6                      Gabe Ibáñez   \n",
            "7  Rodrigo Toro, Francisco Schultz   \n",
            "8                              NaN   \n",
            "9                Henrik Ruben Genz   \n",
            "\n",
            "                                                cast  \\\n",
            "0  Alan Marriott, Andrew Toth, Brian Dobson, Cole...   \n",
            "1                                   Jandino Asporaat   \n",
            "2  Peter Cullen, Sumalee Montano, Frank Welker, J...   \n",
            "3  Will Friedle, Darren Criss, Constance Zimmer, ...   \n",
            "4  Nesta Cooper, Kate Walsh, John Michael Higgins...   \n",
            "5  Alberto Ammann, Eloy Azorín, Verónica Echegui,...   \n",
            "6  Antonio Banderas, Dylan McDermott, Melanie Gri...   \n",
            "7                                    Fabrizio Copano   \n",
            "8                                                NaN   \n",
            "9  James Franco, Kate Hudson, Tom Wilkinson, Omar...   \n",
            "\n",
            "                                          country         date_added  \\\n",
            "0        United States, India, South Korea, China  September 9, 2019   \n",
            "1                                  United Kingdom  September 9, 2016   \n",
            "2                                   United States  September 8, 2018   \n",
            "3                                   United States  September 8, 2018   \n",
            "4                                   United States  September 8, 2017   \n",
            "5                                           Spain  September 8, 2017   \n",
            "6          Bulgaria, United States, Spain, Canada  September 8, 2017   \n",
            "7                                           Chile  September 8, 2017   \n",
            "8                                   United States  September 8, 2017   \n",
            "9  United States, United Kingdom, Denmark, Sweden  September 8, 2017   \n",
            "\n",
            "   release_year    rating  duration  \\\n",
            "0          2019     TV-PG    90 min   \n",
            "1          2016     TV-MA    94 min   \n",
            "2          2013  TV-Y7-FV  1 Season   \n",
            "3          2016     TV-Y7  1 Season   \n",
            "4          2017     TV-14    99 min   \n",
            "5          2016     TV-MA  1 Season   \n",
            "6          2014         R   110 min   \n",
            "7          2017     TV-MA    60 min   \n",
            "8          2017     TV-MA  1 Season   \n",
            "9          2014         R    90 min   \n",
            "\n",
            "                                           listed_in  \\\n",
            "0                 Children & Family Movies, Comedies   \n",
            "1                                    Stand-Up Comedy   \n",
            "2                                           Kids' TV   \n",
            "3                                           Kids' TV   \n",
            "4                                           Comedies   \n",
            "5  Crime TV Shows, International TV Shows, Spanis...   \n",
            "6  International Movies, Sci-Fi & Fantasy, Thrillers   \n",
            "7                                    Stand-Up Comedy   \n",
            "8                    Docuseries, Science & Nature TV   \n",
            "9                      Action & Adventure, Thrillers   \n",
            "\n",
            "                                         description  \n",
            "0  Before planning an awesome wedding for his gra...  \n",
            "1  Jandino Asporaat riffs on the challenges of ra...  \n",
            "2  With the help of three human allies, the Autob...  \n",
            "3  When a prison ship crash unleashes hundreds of...  \n",
            "4  When nerdy high schooler Dani finally attracts...  \n",
            "5  A young journalist is forced into a life of cr...  \n",
            "6  In a dystopian future, an insurance adjuster f...  \n",
            "7  Fabrizio Copano takes audience participation t...  \n",
            "8  As California's 2016 fire season rages, brave ...  \n",
            "9  A struggling couple can't believe their luck w...  \n",
            "\n",
            "Últimos 15 registros del conjunto de datos:\n",
            "       show_id     type  type_id                                        title  \\\n",
            "6219  80186475  TV Show        2                           Pokémon the Series   \n",
            "6220  70272742  TV Show        2                                  Justin Time   \n",
            "6221  80067942  TV Show        2      Terrace House: Boys & Girls in the City   \n",
            "6222  70136122  TV Show        2                                        Weeds   \n",
            "6223  70204989  TV Show        2                              Gunslinger Girl   \n",
            "6224  70304979  TV Show        2              Anthony Bourdain: Parts Unknown   \n",
            "6225  70153412  TV Show        2                                      Frasier   \n",
            "6226  70243132  TV Show        2                          La Familia P. Luche   \n",
            "6227  80005756  TV Show        2                 The Adventures of Figaro Pho   \n",
            "6228  80159925  TV Show        2                                     Kikoriki   \n",
            "6229  80000063  TV Show        2                                 Red vs. Blue   \n",
            "6230  70286564  TV Show        2                                        Maron   \n",
            "6231  80116008    Movie        1       Little Baby Bum: Nursery Rhyme Friends   \n",
            "6232  70281022  TV Show        2  A Young Doctor's Notebook and Other Stories   \n",
            "6233  70153404  TV Show        2                                      Friends   \n",
            "\n",
            "     director                                               cast  \\\n",
            "6219      NaN  Sarah Natochenny, Laurie Hymes, Jessica Paquet...   \n",
            "6220      NaN            Gage Munroe, Scott McCord, Jenna Warren   \n",
            "6221      NaN  You, Reina Triendl, Ryota Yamasato, Yoshimi To...   \n",
            "6222      NaN  Mary-Louise Parker, Hunter Parrish, Alexander ...   \n",
            "6223      NaN  Yuuka Nanri, Kanako Mitsuhashi, Eri Sendai, Am...   \n",
            "6224      NaN                                   Anthony Bourdain   \n",
            "6225      NaN  Kelsey Grammer, Jane Leeves, David Hyde Pierce...   \n",
            "6226      NaN  Eugenio Derbez, Consuelo Duval, Luis Manuel Áv...   \n",
            "6227      NaN  Luke Jurevicius, Craig Behenna, Charlotte Haml...   \n",
            "6228      NaN                                      Igor Dmitriev   \n",
            "6229      NaN  Burnie Burns, Jason Saldaña, Gustavo Sorola, G...   \n",
            "6230      NaN  Marc Maron, Judd Hirsch, Josh Brener, Nora Zeh...   \n",
            "6231      NaN                                                NaN   \n",
            "6232      NaN  Daniel Radcliffe, Jon Hamm, Adam Godley, Chris...   \n",
            "6233      NaN  Jennifer Aniston, Courteney Cox, Lisa Kudrow, ...   \n",
            "\n",
            "             country     date_added  release_year    rating    duration  \\\n",
            "6219           Japan  April 1, 2019          2019  TV-Y7-FV   2 Seasons   \n",
            "6220          Canada  April 1, 2016          2012      TV-Y   2 Seasons   \n",
            "6221           Japan  April 1, 2016          2016     TV-14   2 Seasons   \n",
            "6222   United States  April 1, 2014          2012     TV-MA   8 Seasons   \n",
            "6223           Japan            NaN          2008     TV-14   2 Seasons   \n",
            "6224   United States            NaN          2018     TV-PG   5 Seasons   \n",
            "6225   United States            NaN          2003     TV-PG  11 Seasons   \n",
            "6226   United States            NaN          2012     TV-14   3 Seasons   \n",
            "6227       Australia            NaN          2015     TV-Y7   2 Seasons   \n",
            "6228             NaN            NaN          2010      TV-Y   2 Seasons   \n",
            "6229   United States            NaN          2015        NR  13 Seasons   \n",
            "6230   United States            NaN          2016     TV-MA   4 Seasons   \n",
            "6231             NaN            NaN          2016       NaN      60 min   \n",
            "6232  United Kingdom            NaN          2013     TV-MA   2 Seasons   \n",
            "6233   United States            NaN          2003     TV-14  10 Seasons   \n",
            "\n",
            "                                              listed_in  \\\n",
            "6219                             Anime Series, Kids' TV   \n",
            "6220                                           Kids' TV   \n",
            "6221                 International TV Shows, Reality TV   \n",
            "6222                             TV Comedies, TV Dramas   \n",
            "6223                       Anime Series, Crime TV Shows   \n",
            "6224                                         Docuseries   \n",
            "6225                     Classic & Cult TV, TV Comedies   \n",
            "6226  International TV Shows, Spanish-Language TV Sh...   \n",
            "6227                              Kids' TV, TV Comedies   \n",
            "6228                                           Kids' TV   \n",
            "6229  TV Action & Adventure, TV Comedies, TV Sci-Fi ...   \n",
            "6230                                        TV Comedies   \n",
            "6231                                             Movies   \n",
            "6232           British TV Shows, TV Comedies, TV Dramas   \n",
            "6233                     Classic & Cult TV, TV Comedies   \n",
            "\n",
            "                                            description  \n",
            "6219  Ash and his Pikachu travel to the Alola region...  \n",
            "6220  In Justin's dreams, he and his imaginary frien...  \n",
            "6221  A new set of six men and women start their liv...  \n",
            "6222  A suburban mother starts selling marijuana to ...  \n",
            "6223  On the surface, the Social Welfare Agency appe...  \n",
            "6224  This CNN original series has chef Anthony Bour...  \n",
            "6225  Frasier Crane is a snooty but lovable Seattle ...  \n",
            "6226  This irreverent sitcom featues Ludovico, Feder...  \n",
            "6227  Imagine your worst fears, then multiply them: ...  \n",
            "6228  A wacky rabbit and his gang of animal pals hav...  \n",
            "6229  This parody of first-person shooter games, mil...  \n",
            "6230  Marc Maron stars as Marc Maron, who interviews...  \n",
            "6231  Nursery rhymes and original music for children...  \n",
            "6232  Set during the Russian Revolution, this comic ...  \n",
            "6233  This hit sitcom follows the merry misadventure...  \n",
            "\n",
            "Estadísticos básicos:\n",
            "            show_id      type_id  release_year\n",
            "count  6.234000e+03  6234.000000    6234.00000\n",
            "mean   7.670368e+07     1.315849    2013.35932\n",
            "std    1.094296e+07     0.464890       8.81162\n",
            "min    2.477470e+05     1.000000    1925.00000\n",
            "25%    8.003580e+07     1.000000    2013.00000\n",
            "50%    8.016337e+07     1.000000    2016.00000\n",
            "75%    8.024489e+07     2.000000    2018.00000\n",
            "max    8.123573e+07     2.000000    2020.00000\n"
          ]
        },
        {
          "output_type": "display_data",
          "data": {
            "text/plain": [
              "<Figure size 1000x600 with 1 Axes>"
            ],
            "image/png": "[encoded data removed]"
          },
          "metadata": {}
        }
      ]
    },
    {
      "cell_type": "markdown",
      "metadata": {
        "id": "OVi775ZJ2bsy"
      },
      "source": [
        "<table class=\"tfo-notebook-buttons\" align=\"left\">\n",
        "  <td>\n",
        "    <a target=\"_blank\" href=\"https://colab.research.google.com/github/tensorflow/examples/blob/master/courses/udacity_intro_to_tensorflow_for_deep_learning/l01c01_introduction_to_colab_and_python.ipynb\"><img src=\"https://www.tensorflow.org/images/colab_logo_32px.png\" />Run in Google Colab</a>\n",
        "  </td>\n",
        "  <td>\n",
        "    <a target=\"_blank\" href=\"https://github.com/tensorflow/examples/blob/master/courses/udacity_intro_to_tensorflow_for_deep_learning/l01c01_introduction_to_colab_and_python.ipynb\"><img src=\"https://www.tensorflow.org/images/GitHub-Mark-32px.png\" />View source on GitHub</a>\n",
        "  </td>\n",
        "</table>"
      ]
    },
    {
      "cell_type": "code",
      "execution_count": null,
      "metadata": {
        "id": "X9uIpOS2zx7k"
      },
      "outputs": [],
      "source": [
        "print(\"Hello World\")"
      ]
    },
    {
      "cell_type": "markdown",
      "metadata": {
        "id": "wwJGmDrQ0EoB"
      },
      "source": [
        "## Functions, Conditionals, and Iteration\n",
        "Let's create a Python function, and call it from a loop."
      ]
    },
    {
      "cell_type": "code",
      "execution_count": null,
      "metadata": {
        "id": "pRllo2HLfXiu"
      },
      "outputs": [],
      "source": [
        "def HelloWorldXY(x, y):\n",
        "  if (x < 10):\n",
        "    print(\"Hello World, x was < 10\")\n",
        "  elif (x < 20):\n",
        "    print(\"Hello World, x was >= 10 but < 20\")\n",
        "  else:\n",
        "    print(\"Hello World, x was >= 20\")\n",
        "  return x + y\n",
        "\n",
        "for i in range(8, 25, 5):  # i=8, 13, 18, 23 (start, stop, step)\n",
        "  print(\"--- Now running with i: {}\".format(i))\n",
        "  r = HelloWorldXY(i,i)\n",
        "  print(\"Result from HelloWorld: {}\".format(r))"
      ]
    },
    {
      "cell_type": "code",
      "execution_count": null,
      "metadata": {
        "id": "lHNmDCh0JpVP"
      },
      "outputs": [],
      "source": [
        "print(HelloWorldXY(1,2))"
      ]
    },
    {
      "cell_type": "markdown",
      "metadata": {
        "id": "kiZG7uhm8qCF"
      },
      "source": [
        "Easy, right?\n",
        "\n",
        "If you want a loop starting at 0 to 2 (exclusive) you could do any of the following"
      ]
    },
    {
      "cell_type": "code",
      "execution_count": null,
      "metadata": {
        "id": "m8YQN1H41L-Y"
      },
      "outputs": [],
      "source": [
        "print(\"Iterate over the items. `range(2)` is like a list [0,1].\")\n",
        "for i in range(2):\n",
        "  print(i)\n",
        "\n",
        "print(\"Iterate over an actual list.\")\n",
        "for i in [0,1]:\n",
        "  print(i)\n",
        "\n",
        "print(\"While works\")\n",
        "i = 0\n",
        "while i < 2:\n",
        "  print(i)\n",
        "  i += 1"
      ]
    },
    {
      "cell_type": "code",
      "execution_count": null,
      "metadata": {
        "id": "vIgmFZq4zszl"
      },
      "outputs": [],
      "source": [
        "print(\"Python supports standard key words like continue and break\")\n",
        "while True:\n",
        "  print(\"Entered while\")\n",
        "  break"
      ]
    },
    {
      "cell_type": "markdown",
      "metadata": {
        "id": "5QyOUhFw1OUX"
      },
      "source": [
        "## Numpy and lists\n",
        "Python has lists built into the language.\n",
        "However, we will use a library called numpy for this.\n",
        "Numpy gives you lots of support functions that are useful when doing Machine Learning.\n",
        "\n",
        "Here, you will also see an import statement. This statement makes the entire numpy package available and we can access those symbols using the abbreviated 'np' syntax."
      ]
    },
    {
      "cell_type": "code",
      "execution_count": null,
      "metadata": {
        "id": "4Dxk4q-jzEy4"
      },
      "outputs": [],
      "source": [
        "import numpy as np  # Make numpy available using np.\n",
        "\n",
        "# Create a numpy array, and append an element\n",
        "a = np.array([\"Hello\", \"World\"])\n",
        "a = np.append(a, \"!\")\n",
        "print(\"Current array: {}\".format(a))\n",
        "print(\"Printing each element\")\n",
        "for i in a:\n",
        "  print(i)\n",
        "\n",
        "print(\"\\nPrinting each element and their index\")\n",
        "for i,e in enumerate(a):\n",
        "  print(\"Index: {}, was: {}\".format(i, e))"
      ]
    },
    {
      "cell_type": "code",
      "execution_count": null,
      "metadata": {
        "id": "RTa8_9G3LV03"
      },
      "outputs": [],
      "source": [
        "print(\"\\nShowing some basic math on arrays\")\n",
        "b = np.array([0,1,4,3,2])\n",
        "print(\"Max: {}\".format(np.max(b)))\n",
        "print(\"Average: {}\".format(np.average(b)))\n",
        "print(\"Max index: {}\".format(np.argmax(b)))"
      ]
    },
    {
      "cell_type": "code",
      "execution_count": null,
      "metadata": {
        "id": "9YaGj5n4LW7P"
      },
      "outputs": [],
      "source": [
        "print(\"\\nYou can print the type of anything\")\n",
        "print(\"Type of b: {}, type of b[0]: {}\".format(type(b), type(b[0])))"
      ]
    },
    {
      "cell_type": "code",
      "execution_count": null,
      "metadata": {
        "id": "V6ilVhi9LXn_"
      },
      "outputs": [],
      "source": [
        "print(\"\\nUse numpy to create a [3,3] dimension array with random number\")\n",
        "c = np.random.rand(3, 3)\n",
        "print(c)"
      ]
    },
    {
      "cell_type": "code",
      "execution_count": null,
      "metadata": {
        "id": "W_Q-DkFCLYGA"
      },
      "outputs": [],
      "source": [
        "print(\"\\nYou can print the dimensions of arrays\")\n",
        "print(\"Shape of a: {}\".format(a.shape))\n",
        "print(\"Shape of b: {}\".format(b.shape))\n",
        "print(\"Shape of c: {}\".format(c.shape))\n",
        "print(\"...Observe, Python uses both [0,1,2] and (0,1,2) to specify lists\")"
      ]
    },
    {
      "cell_type": "markdown",
      "metadata": {
        "id": "c-Jk4dG91dvD"
      },
      "source": [
        "## Colab Specifics"
      ]
    },
    {
      "cell_type": "markdown",
      "metadata": {
        "id": "G0cGd8sHEmKi"
      },
      "source": [
        "Colab is a virtual machine you can access directly. To run commands at the VM's terminal, prefix the line with an exclamation point (!).\n"
      ]
    },
    {
      "cell_type": "code",
      "execution_count": null,
      "metadata": {
        "id": "cLkfhyzq0W2y"
      },
      "outputs": [],
      "source": [
        "print(\"\\nDoing $ls on filesystem\")\n",
        "!ls -l\n",
        "!pwd"
      ]
    },
    {
      "cell_type": "code",
      "execution_count": null,
      "metadata": {
        "id": "gR2WTN1cOZ1n"
      },
      "outputs": [],
      "source": [
        "print(\"Install numpy\")  # Just for test, numpy is actually preinstalled in all Colab instances\n",
        "!pip install numpy"
      ]
    },
    {
      "cell_type": "markdown",
      "metadata": {
        "id": "QuWRpQdatAIU"
      },
      "source": [
        "**Exercise**\n",
        "\n",
        "Create a code cell underneath this text cell and add code to:\n",
        "\n",
        "\n",
        "*   List the path of the current directory (pwd)\n",
        "* Go to / (cd) and list the content (ls -l)"
      ]
    },
    {
      "cell_type": "code",
      "execution_count": null,
      "metadata": {
        "id": "xU-cJbMCR61P"
      },
      "outputs": [],
      "source": [
        "!pwd\n",
        "!cd /\n",
        "!ls -l\n",
        "print(\"Hello\")"
      ]
    },
    {
      "cell_type": "markdown",
      "metadata": {
        "id": "7b5jv0ouFREV"
      },
      "source": [
        "All usage of Colab in this course is completely free or charge. Even GPU usage is provided free of charge for some hours of usage every day.\n",
        "\n",
        "**Using GPUs**\n",
        "* Many of the exercises in the course executes more quickly by using GPU runtime: Runtime | Change runtime type | Hardware accelerator | GPU\n",
        "\n",
        "**Some final words on Colab**\n",
        "*   You execute each cell in order, you can edit & re-execute cells if you want\n",
        "*   Sometimes, this could have unintended consequences. For example, if you add a dimension to an array and execute the cell multiple times, then the cells after may not work. If you encounter problem reset your environment:\n",
        "  *   Runtime -> Restart runtime... Resets your Python shell\n",
        "  *   Runtime -> Restart all runtimes... Will reset the Colab image, and get you back to a 100% clean environment\n",
        "* You can also clear the output in the Colab by doing: Edit -> Clear all outputs\n",
        "* Colabs in this course are loaded from GitHub. Save to your Google Drive if you want a copy with your code/output: File -> Save a copy in Drive...\n",
        "\n",
        "**Learn More**\n",
        "*   Check out [this](https://www.youtube.com/watch?v=inN8seMm7UI&list=PLQY2H8rRoyvwLbzbnKJ59NkZvQAW9wLbx&index=3) episode of #CodingTensorFlow, and don't forget to subscribe to the YouTube channel ;)\n"
      ]
    }
  ],
  "metadata": {
    "accelerator": "GPU",
    "colab": {
      "name": "l01c01_introduction_to_colab_and_python.ipynb",
      "provenance": []
    },
    "kernelspec": {
      "display_name": "Python 3",
      "name": "python3"
    }
  },
  "nbformat": 4,
  "nbformat_minor": 0
}